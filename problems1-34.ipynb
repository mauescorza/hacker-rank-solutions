{
  "nbformat": 4,
  "nbformat_minor": 0,
  "metadata": {
    "colab": {
      "provenance": []
    },
    "kernelspec": {
      "name": "python3",
      "display_name": "Python 3"
    },
    "language_info": {
      "name": "python"
    }
  },
  "cells": [
    {
      "cell_type": "markdown",
      "source": [
        "**1.** Given an array of integers, calculate the ratios of its elements that are positive, negative, and zero. Print the decimal value of each fraction on a new line with  places after the decimal."
      ],
      "metadata": {
        "id": "2ShhHjl3EqGm"
      }
    },
    {
      "cell_type": "code",
      "execution_count": null,
      "metadata": {
        "id": "8nWF8Z-7Ef07"
      },
      "outputs": [],
      "source": [
        "def plusMinus(arr):\n",
        "    n=len(arr)\n",
        "    neg=0\n",
        "    pos=0\n",
        "    zero=0\n",
        "\n",
        "    for a in arr:\n",
        "        if a<0:\n",
        "            neg+=1\n",
        "        elif a>0:\n",
        "            pos+=1\n",
        "        else:\n",
        "            zero+=1\n",
        "\n",
        "    print(f\"{pos/n:.6f}\\n{neg/n:.6f}\\n{zero/n:.6f}\")"
      ]
    },
    {
      "cell_type": "markdown",
      "source": [
        "**Conocimiento:**\n",
        "\n",
        "Imprimir un número con 6 decimales:\n",
        "`print(f'{variable:.6f}')`"
      ],
      "metadata": {
        "id": "yHs_ykxEE4qc"
      }
    },
    {
      "cell_type": "markdown",
      "source": [
        "**2.** Given five positive integers, find the minimum and maximum values that can be calculated by summing exactly four of the five integers. Then print the respective minimum and maximum values as a single line of two space-separated long integers."
      ],
      "metadata": {
        "id": "bB7ypPm4FQyg"
      }
    },
    {
      "cell_type": "code",
      "source": [
        "def miniMaxSum(arr):\n",
        "    sum_arr = sum(arr)\n",
        "    arr.sort()\n",
        "\n",
        "    print(str(sum_arr - arr[4]) + ' ' + str(sum_arr - arr[0]))"
      ],
      "metadata": {
        "id": "Iyn182x5FdJ4"
      },
      "execution_count": null,
      "outputs": []
    },
    {
      "cell_type": "markdown",
      "source": [
        "**Conocimiento:**\n",
        "\n",
        "Sumar los elementos de una lista: `sum(list)`\n",
        "\n",
        "Ordenar una lista: `list.sort()`"
      ],
      "metadata": {
        "id": "AUgy0VSxHtnA"
      }
    },
    {
      "cell_type": "markdown",
      "source": [
        "**3.** Given a time in 12-hour AM/PM format, convert it to military (24-hour) time.\n",
        "\n",
        "Note: - 12:00:00AM on a 12-hour clock is 00:00:00 on a 24-hour clock, 12:00:00PM on a 12-hour clock is 12:00:00 on a 24-hour clock."
      ],
      "metadata": {
        "id": "8VrWREgsG7FN"
      }
    },
    {
      "cell_type": "code",
      "source": [
        "def timeConversion(s):\n",
        "    if(s[:2]==\"12\" and s[8:10]==\"AM\"):\n",
        "        return \"00\" + s[2:8]\n",
        "    else:\n",
        "        if(s[8:10]==\"AM\"):\n",
        "            return s[:8]\n",
        "        else:\n",
        "            if(s[:2]==\"12\"):\n",
        "                return s[:8]\n",
        "            return str(int(s[0:2]) + 12) + s[2:8]"
      ],
      "metadata": {
        "id": "sM2aerjUHK7m"
      },
      "execution_count": null,
      "outputs": []
    },
    {
      "cell_type": "markdown",
      "source": [
        "**4.** Maria plays college basketball and wants to go pro. Each season she maintains a record of her play. She tabulates the number of times she breaks her season record for most points and least points in a game. Points scored in the first game establish her record for the season, and she begins counting from there.\n",
        "\n",
        "Example\n",
        "\n",
        "`scores=[12, 24, 10, 24]`\n",
        "\n",
        "Scores are in the same order as the games played. She tabulates her results as follows:\n",
        "\n",
        "                                     Count\n",
        "    Game  Score  Minimum  Maximum   Min Max\n",
        "     0      12     12       12       0   0\n",
        "     1      24     12       24       0   1\n",
        "     2      10     10       24       1   1\n",
        "     3      24     10       24       1   1\n",
        "Given the scores for a season, determine the number of times Maria breaks her records for most and least points scored during the season."
      ],
      "metadata": {
        "id": "iwtS5bv2HRJP"
      }
    },
    {
      "cell_type": "code",
      "source": [
        "def breakingRecords(scores):\n",
        "    min_count = 0\n",
        "    max_count = 0\n",
        "\n",
        "    maximum = minimum = scores[0]\n",
        "\n",
        "    for s in scores:\n",
        "        if s > maximum:\n",
        "            maximum = s\n",
        "            max_count += 1\n",
        "\n",
        "        if s < minimum:\n",
        "            minimum = s\n",
        "            min_count += 1\n",
        "\n",
        "    return [max_count, min_count]"
      ],
      "metadata": {
        "id": "AsLfFcDVIy2E"
      },
      "execution_count": null,
      "outputs": []
    },
    {
      "cell_type": "markdown",
      "source": [
        "**5.** Camel Case is a naming style common in many programming languages. In Java, method and variable names typically start with a lowercase letter, with all subsequent words starting with a capital letter (example: startThread). Names of classes follow the same pattern, except that they start with a capital letter (example: BlueCar).\n",
        "\n",
        "Your task is to write a program that creates or splits Camel Case variable, method, and class names.\n",
        "\n",
        "Input Format\n",
        "\n",
        "a. Each line of the input file will begin with an operation (S or C) followed by a semi-colon followed by M, C, or V followed by a semi-colon followed by the words you'll need to operate on.\n",
        "\n",
        "b. The operation will either be S (split) or C (combine)\n",
        "M indicates method, C indicates class, and V indicates variable.\n",
        "\n",
        "c. In the case of a split operation, the words will be a camel case method, class or variable name that you need to split into a space-delimited list of words starting with a lowercase letter.\n",
        "\n",
        "d. In the case of a combine operation, the words will be a space-delimited list of words starting with lowercase letters that you need to combine into the appropriate camel case String. Methods should end with an empty set of parentheses to differentiate them from variable names.\n",
        "Output Format\n",
        "\n",
        "For each input line, your program should print either the space-delimited list of words (in the case of a split operation) or the appropriate camel case string (in the case of a combine operation).\n"
      ],
      "metadata": {
        "id": "UppQLtd2I81t"
      }
    },
    {
      "cell_type": "code",
      "source": [
        "import re\n",
        "\n",
        "a = input().rstrip()\n",
        "\n",
        "def camelCase(a):\n",
        "  text = a.split(';')\n",
        "\n",
        "  if text[0] == 'S':\n",
        "    return re.sub(r'([A-Z])', r' \\1', text[2]).lower().replace('()', '').strip()\n",
        "\n",
        "  else:\n",
        "    if text[1] == 'V':\n",
        "        expression = text[2].split()\n",
        "        return expression[0] + ''.join(word.capitalize() for word in expression[1:])\n",
        "    elif text[1] == 'M':\n",
        "        expression = text[2].split()\n",
        "        return expression[0] + ''.join(word.capitalize() for word in expression[1:]) + '()'\n",
        "    else:\n",
        "        return text[2].title().replace(\" \", \"\")\n",
        "\n",
        "camelCase(a)"
      ],
      "metadata": {
        "id": "YS8RmgbkJWvR",
        "colab": {
          "base_uri": "https://localhost:8080/",
          "height": 52
        },
        "outputId": "3550dbb3-faf5-4de5-aa83-8e9436d10b03"
      },
      "execution_count": null,
      "outputs": [
        {
          "name": "stdout",
          "output_type": "stream",
          "text": [
            "C;C;orange highlighter\n"
          ]
        },
        {
          "output_type": "execute_result",
          "data": {
            "text/plain": [
              "'OrangeHighlighter'"
            ],
            "application/vnd.google.colaboratory.intrinsic+json": {
              "type": "string"
            }
          },
          "metadata": {},
          "execution_count": 9
        }
      ]
    },
    {
      "cell_type": "code",
      "source": [
        "import re\n",
        "s = input().rstrip()\n",
        "\n",
        "def camelCase(s):\n",
        "  sc, mcv, op = s.split(\";\")\n",
        "  if sc == \"S\":\n",
        "      if mcv == \"M\":\n",
        "        cap = op[:-2]\n",
        "\n",
        "      if mcv == \"C\" or mcv == \"V\":\n",
        "        cap = op\n",
        "\n",
        "      s = re.sub(\"(\\w)([A-Z])\", r\"\\1 \\2\", cap)\n",
        "      print (s.lower())\n",
        "\n",
        "  if sc == \"C\":\n",
        "    cap = op.title()\n",
        "    s = re.sub(r\" \", r\"\", cap)\n",
        "    q = s[:1].lower() + s[1:]\n",
        "\n",
        "    if mcv == \"M\":\n",
        "      print(q + \"()\")\n",
        "\n",
        "    if mcv == \"C\":\n",
        "      print(s)\n",
        "\n",
        "    if mcv == \"V\":\n",
        "      print(q)\n",
        "\n",
        "camelCase(s)"
      ],
      "metadata": {
        "colab": {
          "base_uri": "https://localhost:8080/"
        },
        "id": "p67FfPdlKAmc",
        "outputId": "a8beadd6-d74f-4407-9e72-21c40f2231f7"
      },
      "execution_count": null,
      "outputs": [
        {
          "output_type": "stream",
          "name": "stdout",
          "text": [
            "C;C;orange highlighter\n",
            "OrangeHighlighter\n"
          ]
        }
      ]
    },
    {
      "cell_type": "markdown",
      "source": [
        "**Conocimiento**\n",
        "\n",
        "> `re.sub`:\n",
        "Sustituye una cadena por otra.\n",
        "\n",
        "`re.sub(\"(\\w)([A-Z])\", r\"\\1 \\2\", cap)`:\n",
        "\n",
        "Encuentra un caracter `(\\w)` seguido de una mayúscula `([A-Z])` y luego intercambia lo anterior por `r\"\\1 \\2\"` la cadena hasta el caracter `(\\w) = \\1`, luego un espacio y luego la mayúscula `([A-Z]) = \\2`.\n",
        "\n",
        "> `str.capitalize()`:\n",
        "La primera en mayúscula.\n",
        "\n",
        "> `str.title()`:\n",
        "Cada palabra empieza con mayúscula.\n",
        "\n",
        "`'taylor swift'.title()  ->  'Taylor Swift'`\n",
        "\n",
        "> `str.split()`: Separa un string en una lista utilizando un marcador. El marcador por default es el espacio.\n",
        "\n",
        "`'Taylor Swift'.split()  ->  ['Taylor', 'Swift']`\n",
        "\n",
        "\n",
        "> `'c'.join`:\n",
        "Une una lista de strings utilizando `'c'` de separación.\n",
        "\n",
        "`' '.join(i.capitalize() for i in ['taylor', 'alison', 'swift']) -> 'Taylor Alison Swift'`"
      ],
      "metadata": {
        "id": "g6SMWgnyUfnM"
      }
    },
    {
      "cell_type": "markdown",
      "source": [
        "**6.** Given an array of integers and a positive integer $k$, determine the number of  pairs $(i,j)$ where $i<j$ and $i + j$ is divisible by $k$.\n",
        "\n"
      ],
      "metadata": {
        "id": "ET3QNTZjW3CW"
      }
    },
    {
      "cell_type": "code",
      "source": [
        "def divisibleSumPairs(n, k, ar):\n",
        "    count = 0\n",
        "    for i in range(n):\n",
        "        for j in range(i + 1, n):\n",
        "            if (ar[i] + ar[j]) % k == 0:\n",
        "              print('(' + str(ar[i]) + ', ' + str(ar[j]) + ')\\n')\n",
        "              count += 1\n",
        "\n",
        "    return count"
      ],
      "metadata": {
        "id": "_9jn-XNLU9l9"
      },
      "execution_count": null,
      "outputs": []
    },
    {
      "cell_type": "code",
      "source": [
        "divisibleSumPairs(5, 3, [1, 2, 3, 4, 5])"
      ],
      "metadata": {
        "id": "QpiJdbOKXYGw",
        "colab": {
          "base_uri": "https://localhost:8080/"
        },
        "outputId": "4156314d-e345-405e-d25f-b8cb78cea2f3"
      },
      "execution_count": null,
      "outputs": [
        {
          "output_type": "stream",
          "name": "stdout",
          "text": [
            "(1, 2)\n",
            "\n",
            "(1, 5)\n",
            "\n",
            "(2, 4)\n",
            "\n",
            "(4, 5)\n",
            "\n"
          ]
        },
        {
          "output_type": "execute_result",
          "data": {
            "text/plain": [
              "4"
            ]
          },
          "metadata": {},
          "execution_count": 15
        }
      ]
    },
    {
      "cell_type": "markdown",
      "source": [
        "**7.** There is a collection of input strings and a collection of query strings. For each query string, determine how many times it occurs in the list of input strings. Return an array of the results."
      ],
      "metadata": {
        "id": "rQs0m3lAHjru"
      }
    },
    {
      "cell_type": "code",
      "source": [
        "def matchingStrings(strings, queries):\n",
        "    counter = 0\n",
        "    result = []\n",
        "    for i in queries:\n",
        "        for j in strings:\n",
        "            if i == j:\n",
        "              counter += 1\n",
        "        result.append(counter)\n",
        "        counter = 0\n",
        "\n",
        "    return result\n"
      ],
      "metadata": {
        "id": "qwqo-J3kQftq"
      },
      "execution_count": null,
      "outputs": []
    },
    {
      "cell_type": "code",
      "source": [
        "matchingStrings(['ab', 'ab', 'abc'], ['ab', 'abc', 'cb'])"
      ],
      "metadata": {
        "colab": {
          "base_uri": "https://localhost:8080/"
        },
        "id": "JddF8VQLQiL9",
        "outputId": "66ec44d2-7a9c-4187-96d9-f41fce65feae"
      },
      "execution_count": null,
      "outputs": [
        {
          "output_type": "execute_result",
          "data": {
            "text/plain": [
              "[2, 1, 0]"
            ]
          },
          "metadata": {},
          "execution_count": 24
        }
      ]
    },
    {
      "cell_type": "markdown",
      "source": [
        "**8.** Find the median of an array of odd lenght."
      ],
      "metadata": {
        "id": "LIuJ8DDiWfkb"
      }
    },
    {
      "cell_type": "code",
      "source": [
        "def findMedian(arr):\n",
        "    arr.sort()\n",
        "    print(arr)\n",
        "    print(arr[len(arr) // 2])\n",
        "\n",
        "findMedian([1, 3, 4, 2, 5, 6])"
      ],
      "metadata": {
        "colab": {
          "base_uri": "https://localhost:8080/"
        },
        "id": "0UjthhqSQrqT",
        "outputId": "790f2542-8b50-4ddb-db7e-2c0741885a83"
      },
      "execution_count": null,
      "outputs": [
        {
          "output_type": "stream",
          "name": "stdout",
          "text": [
            "[1, 2, 3, 4, 5, 6]\n",
            "4\n"
          ]
        }
      ]
    },
    {
      "cell_type": "markdown",
      "source": [
        "**9.** Given an array of integers, where all elements but one occur twice, find the unique element."
      ],
      "metadata": {
        "id": "HKNaOExWVw8a"
      }
    },
    {
      "cell_type": "code",
      "source": [
        "def lonelyinteger(a):\n",
        "    res = a[0]\n",
        "\n",
        "    for i in range(1, len(a)):\n",
        "        res = res ^ a[i]\n",
        "\n",
        "    return res"
      ],
      "metadata": {
        "id": "zCI4UL-SXk9t"
      },
      "execution_count": null,
      "outputs": []
    },
    {
      "cell_type": "code",
      "source": [
        "lonelyinteger([6, 5, 6, 8, 1, 8, 1])"
      ],
      "metadata": {
        "colab": {
          "base_uri": "https://localhost:8080/"
        },
        "id": "489MgBa9eGXh",
        "outputId": "a67963db-a088-4d40-fcb5-13bfeef04016"
      },
      "execution_count": null,
      "outputs": [
        {
          "output_type": "execute_result",
          "data": {
            "text/plain": [
              "5"
            ]
          },
          "metadata": {},
          "execution_count": 54
        }
      ]
    },
    {
      "cell_type": "markdown",
      "source": [
        "**Conocimiento**\n",
        "\n",
        "El operador `^` es el operador hash en Python.\n",
        "\n",
        "\n",
        "\n",
        "*   `n ^ n -> 0`, un número operado con él mismo es cero.\n",
        "*   `n ^ 0 -> n`, un número operado con sero es el mismo múmero.\n",
        "\n",
        "El operador hash es asociativo y conmutativo. Supongamos que `a = [6, 5, 6, 8, 1, 8, 1]`\n",
        "\n",
        "```\n",
        "6 ^ 5 ^ 6 ^ 8 ^ 1 ^ 8 ^ 1 = 5 ^ (6 ^ 6) ^ (8 ^ 8) ^ (1 ^ 1) = 5 ^ 0 ^ 0 ^ 0 = 5\n",
        "```\n",
        "\n"
      ],
      "metadata": {
        "id": "4lrhXCJkcGti"
      }
    },
    {
      "cell_type": "markdown",
      "source": [
        "**10.** HackerLand University has the following grading policy:\n",
        "\n",
        "• Every student receives a grade in the inclusive range from 0 to 100.\n",
        "Any grade less than 40 is a failing grade.\n",
        "\n",
        "Sam is a professor at the university and likes to round each student's grade according to these rules:\n",
        "\n",
        "• If the difference between the grade and the next multiple of 5 is less than 3, round grade up to the next multiple of 5.\n",
        "\n",
        "• If the value of grade is less than 38, no rounding occurs as the result will still be a failing grade."
      ],
      "metadata": {
        "id": "OGwiOr4Dhs62"
      }
    },
    {
      "cell_type": "code",
      "source": [
        "def gradingStudents(grades):\n",
        "    result = []\n",
        "    for g in grades:\n",
        "        if g < 40:\n",
        "            result.append(g)\n",
        "        elif ((g // 5 + 1) * 5 - g) < 3:\n",
        "            result.append((g // 5 + 1) * 5)\n",
        "        else:\n",
        "            result.append(g)\n",
        "\n",
        "    return result"
      ],
      "metadata": {
        "id": "qlXPxdfpXr2e"
      },
      "execution_count": null,
      "outputs": []
    },
    {
      "cell_type": "code",
      "source": [
        "gradingStudents([4, 73, 67, 38, 33, 58])"
      ],
      "metadata": {
        "colab": {
          "base_uri": "https://localhost:8080/"
        },
        "id": "FO-lOeXXdFaw",
        "outputId": "2a2d0aed-ed2b-4939-977c-ab4831100ca2"
      },
      "execution_count": null,
      "outputs": [
        {
          "output_type": "execute_result",
          "data": {
            "text/plain": [
              "[4, 75, 67, 38, 33, 60]"
            ]
          },
          "metadata": {},
          "execution_count": 59
        }
      ]
    },
    {
      "cell_type": "markdown",
      "source": [
        "**11.** You will be given a list of 32 bit unsigned integers. Flip all the bits (0->1 and 1->0) and return the result as an unsigned integer.\n",
        "\n"
      ],
      "metadata": {
        "id": "-pwGvlubCQ2_"
      }
    },
    {
      "cell_type": "code",
      "source": [
        "def flippingBits(n):\n",
        "  binary = format(n, '032b')\n",
        "\n",
        "  return int(''.join(['0' if bit == '1' else '1' for bit in binary]), 2)"
      ],
      "metadata": {
        "id": "VkOmeV6khLU8"
      },
      "execution_count": null,
      "outputs": []
    },
    {
      "cell_type": "code",
      "source": [
        "flippingBits(1024)"
      ],
      "metadata": {
        "colab": {
          "base_uri": "https://localhost:8080/"
        },
        "id": "89fNv7C3klII",
        "outputId": "4b419bec-facd-4a76-f052-1f81f4cd0a98"
      },
      "execution_count": null,
      "outputs": [
        {
          "output_type": "execute_result",
          "data": {
            "text/plain": [
              "4294966271"
            ]
          },
          "metadata": {},
          "execution_count": 4
        }
      ]
    },
    {
      "cell_type": "markdown",
      "source": [
        "**Conocimiento**\n",
        "\n",
        "Pasar de entero a binario\n",
        "\n",
        "```\n",
        "bin(42) -> '0b101010'\n",
        "\n",
        "format(42, '032b') -> '00000000000000000000000000101010'\n",
        "```\n",
        "\n",
        "Pasar de binario a entero\n",
        "```\n",
        "int('101010', 2) -> 42\n",
        "```"
      ],
      "metadata": {
        "id": "oqwZM9RyETCw"
      }
    },
    {
      "cell_type": "markdown",
      "source": [
        "**12.** Given a square matrix, calculate the absolute difference between the sums of its diagonals."
      ],
      "metadata": {
        "id": "J4R77VxdV_Sh"
      }
    },
    {
      "cell_type": "code",
      "source": [
        "def diagonalDifference(arr):\n",
        "    sum1 = 0\n",
        "    sum2 = 0\n",
        "    for i in range(len(arr)):\n",
        "      sum1 += arr[i][i]\n",
        "\n",
        "    for i in range(len(arr)):\n",
        "      sum2 += arr[i][len(arr) - 1 - i]\n",
        "\n",
        "    return sum1 - sum2 if sum1 >= sum2 else sum2 - sum1"
      ],
      "metadata": {
        "id": "krJVxZuvCxlS"
      },
      "execution_count": null,
      "outputs": []
    },
    {
      "cell_type": "code",
      "source": [
        "diagonalDifference([ [11, 2, 4], [4, 5, 6], [10, 8, -12] ])"
      ],
      "metadata": {
        "id": "9pJ9gnvTEn-1",
        "colab": {
          "base_uri": "https://localhost:8080/"
        },
        "outputId": "4eb07aae-01b7-46f6-e0ef-3861ac14e982"
      },
      "execution_count": null,
      "outputs": [
        {
          "output_type": "execute_result",
          "data": {
            "text/plain": [
              "15"
            ]
          },
          "metadata": {},
          "execution_count": 7
        }
      ]
    },
    {
      "cell_type": "markdown",
      "source": [
        "**13.** Counting sort 👈🏽\n",
        "you create an integer array whose index range covers the entire range of values in your array to sort. Each time a value occurs in the original array, you increment the counter at that index. At the end, run through your counting array, printing the value of each non-zero valued index that number of times."
      ],
      "metadata": {
        "id": "_Hk8aZ7cZEB-"
      }
    },
    {
      "cell_type": "code",
      "source": [
        "def countingSort(arr):\n",
        "  count_arr = [0] * (max(arr) - min(arr) + 1)\n",
        "  for i in arr:\n",
        "    count_arr[i - min(arr)] += 1\n",
        "\n",
        "  result = []\n",
        "  for i, n in enumerate(count_arr):\n",
        "    result = result + ([i + min(arr)] * n)\n",
        "\n",
        "  return result"
      ],
      "metadata": {
        "id": "i5C3k6GMWs24"
      },
      "execution_count": null,
      "outputs": []
    },
    {
      "cell_type": "code",
      "source": [
        "countingSort([5, 6, 7, 8, 5, 6, 7, 8, 9, 9])"
      ],
      "metadata": {
        "colab": {
          "base_uri": "https://localhost:8080/"
        },
        "id": "dPxjMpuVaqG7",
        "outputId": "b2994b7d-f81c-4ec8-ae7c-6a312aa80752"
      },
      "execution_count": null,
      "outputs": [
        {
          "output_type": "execute_result",
          "data": {
            "text/plain": [
              "[5, 5, 6, 6, 7, 7, 8, 8, 9, 9]"
            ]
          },
          "metadata": {},
          "execution_count": 39
        }
      ]
    },
    {
      "cell_type": "markdown",
      "source": [
        "**Conocimiento**\n",
        "\n",
        "Obtener el mínimo de una lista: `min(list)`\n",
        "\n",
        "Iterar sobre los índices y elementos: `for i, n in enumerate(list):`"
      ],
      "metadata": {
        "id": "Cyq0UiFrjdGx"
      }
    },
    {
      "cell_type": "markdown",
      "source": [
        "**14.** An avid hiker keeps meticulous records of their hikes. During the last hike that took exactly $steps$ steps, for every step it was noted if it was an uphill, $U$, or a downhill, $D$, step. Hikes always start and end at sea level, and each step up or down represents a 1 unit change in altitude. We define the following terms:\n",
        "\n",
        "A mountain is a sequence of consecutive steps above sea level, starting with a step up from sea level and ending with a step down to sea level.\n",
        "A valley is a sequence of consecutive steps below sea level, starting with a step down from sea level and ending with a step up to sea level.\n",
        "Given the sequence of up and down steps during a hike, find and print the number of valleys walked through."
      ],
      "metadata": {
        "id": "mJlDxo6CsIgX"
      }
    },
    {
      "cell_type": "code",
      "source": [
        "def countingValleys(steps, path):\n",
        "    level = 0\n",
        "    valley = 0\n",
        "    for step in path:\n",
        "        if step == 'U':\n",
        "            level += 1\n",
        "        else:\n",
        "            level += -1\n",
        "            if level == -1:\n",
        "                valley += 1\n",
        "\n",
        "    return valley"
      ],
      "metadata": {
        "id": "4F4-ZJ1msSV2"
      },
      "execution_count": null,
      "outputs": []
    },
    {
      "cell_type": "code",
      "source": [
        "countingValleys(8, 'UDDDUDUU')"
      ],
      "metadata": {
        "colab": {
          "base_uri": "https://localhost:8080/"
        },
        "id": "RYK7V8SptMtI",
        "outputId": "ced87222-e779-42f8-d4e0-ff60cf790419"
      },
      "execution_count": null,
      "outputs": [
        {
          "output_type": "execute_result",
          "data": {
            "text/plain": [
              "1"
            ]
          },
          "metadata": {},
          "execution_count": 44
        }
      ]
    },
    {
      "cell_type": "markdown",
      "source": [
        "**15.** Los pangramas son oraciones construidas usando todas las letras del alfabeto, por lo menos una vez. Imprime una línea que contiene pangram si s es un pangrama, sino imprime not pangram."
      ],
      "metadata": {
        "id": "z_5qEHkF-2uQ"
      }
    },
    {
      "cell_type": "code",
      "source": [
        "def pangrams(s):\n",
        "    s = s.replace(' ', '').lower()\n",
        "    alphabet = ['a', 'b', 'c', 'd', 'e', 'f', 'g', 'h', 'i', 'j', 'k', 'l', 'm', 'n', 'o', 'p', 'q', 'r', 's', 't', 'u', 'v', 'w', 'x', 'y', 'z']\n",
        "    if all([letter in s for letter in alphabet]):\n",
        "        return 'pangram'\n",
        "    else:\n",
        "        return 'not pangram'"
      ],
      "metadata": {
        "id": "WyQne9YetSE9"
      },
      "execution_count": null,
      "outputs": []
    },
    {
      "cell_type": "markdown",
      "source": [
        "**Conocimiento**\n",
        "\n",
        "`replace(' ', '')`: reemplaza espacio `' '` por vacío `''`\n",
        "\n",
        "`lower()`: pone todo el texto en minúsculas\n",
        "\n",
        "`upper()`: pone todo el texto en mayúsculas"
      ],
      "metadata": {
        "id": "jl6bZG2u_MXX"
      }
    },
    {
      "cell_type": "markdown",
      "source": [
        "**16.** Letters in some of the SOS messages are altered by cosmic radiation during transmission. Given the signal received by Earth as a string, s, determine how many letters of the SOS message have been changed by radiation."
      ],
      "metadata": {
        "id": "80BTwe31ARaq"
      }
    },
    {
      "cell_type": "code",
      "source": [
        "def marsExploration(s):\n",
        "    counter = 0\n",
        "    for i in range(len(s) // 3):\n",
        "        if s[3*i] != 'S':\n",
        "            counter +=1\n",
        "        if s[3*i + 1] != 'O':\n",
        "            counter +=1\n",
        "        if s[3*i + 2] != 'S':\n",
        "            counter +=1\n",
        "    return counter"
      ],
      "metadata": {
        "id": "UQmO11jxAQhH"
      },
      "execution_count": null,
      "outputs": []
    },
    {
      "cell_type": "markdown",
      "source": [
        "**17.** Sean invented a game involving a 2n x 2n matrix where each cell of the matrix contains an integer. He can reverse any of its rows or columns any number of times. The goal of the game is to maximize the sum of the elements in the n x n submatrix located in the upper-left quadrant of the matrix.\n",
        "Given the initial configurations for a matrices, help Sean reverse the rows and columns of each matrix in the best possible way so that the sum of the elements in the matrix's upper-left quadrant is maximal."
      ],
      "metadata": {
        "id": "6T6SgN_NBkhz"
      }
    },
    {
      "cell_type": "code",
      "source": [
        "def flippingMatrix(matrix):\n",
        "    n = len(matrix)\n",
        "    s = 0\n",
        "\n",
        "    for i in range(n // 2):\n",
        "        for j in range(n // 2):\n",
        "            s += max(matrix[i][j], matrix[i][n-j-1], matrix[n-i-1][j], matrix[n-i-1][n-j-1])\n",
        "\n",
        "    return s"
      ],
      "metadata": {
        "id": "EpQakR_ZGotL"
      },
      "execution_count": null,
      "outputs": []
    },
    {
      "cell_type": "markdown",
      "source": [
        "**18.** Given two arrays of equal size n and an integer k. The task is to permute both arrays such that sum of their corresponding element is greater than or equal to k i.e a[i] + b[i] >= k. The task is to print “Yes” if any such permutation exists, otherwise print “No”."
      ],
      "metadata": {
        "id": "PKJB3sh5Sguq"
      }
    },
    {
      "cell_type": "code",
      "source": [
        "def twoArrays(k, A, B):\n",
        "    A.sort()\n",
        "    B.sort(reverse = True)\n",
        "\n",
        "    for i in range(len(A)):\n",
        "        if A[i] + B[i] < k:\n",
        "            return 'NO'\n",
        "\n",
        "    return 'YES'"
      ],
      "metadata": {
        "id": "jA3vj_OlKp6G"
      },
      "execution_count": null,
      "outputs": []
    },
    {
      "cell_type": "markdown",
      "source": [
        "**19.** Two children, Lily and Ron, want to share a chocolate bar. Each of the squares has an integer on it.\n",
        "\n",
        "Lily decides to share a contiguous segment of the bar selected such that:\n",
        "\n",
        "The length of the segment matches Ron's birth month, and,\n",
        "The sum of the integers on the squares is equal to his birth day.\n",
        "Determine how many ways she can divide the chocolate."
      ],
      "metadata": {
        "id": "7bqwVg1GtcuU"
      }
    },
    {
      "cell_type": "code",
      "source": [
        "def birthday(s, d, m):\n",
        "    counter = 0\n",
        "    for i in range(len(s) - m + 1):\n",
        "        if sum(s[i:i+m]) == d:\n",
        "            counter += 1\n",
        "    return counter"
      ],
      "metadata": {
        "id": "A5H7QhvnKrcu"
      },
      "execution_count": null,
      "outputs": []
    },
    {
      "cell_type": "markdown",
      "source": [
        "**20.** Given two strings consisting of digits 0 and 1 only, find the XOR of the two strings."
      ],
      "metadata": {
        "id": "iQwGk0nmxv2Y"
      }
    },
    {
      "cell_type": "code",
      "source": [
        "def strings_xor(s, t):\n",
        "    res = \"\"\n",
        "    for i in range(len(s)):\n",
        "        if s[i] == t[i]:\n",
        "            res += '0';\n",
        "        else:\n",
        "            res += '1';\n",
        "\n",
        "    return res"
      ],
      "metadata": {
        "id": "HvpwVbD6vRa0"
      },
      "execution_count": null,
      "outputs": []
    },
    {
      "cell_type": "markdown",
      "source": [
        "**21.** There is a large pile of socks that must be paired by color. Given an array of integers representing the color of each sock, determine how many pairs of socks with matching colors there are."
      ],
      "metadata": {
        "id": "BmXjfNDfyj4X"
      }
    },
    {
      "cell_type": "code",
      "source": [
        "from collections import Counter\n",
        "def sockMerchant(ar):\n",
        "    result = 0\n",
        "    counts = Counter(ar)\n",
        "    for key, value in counts.items():\n",
        "        result += value // 2\n",
        "    return result"
      ],
      "metadata": {
        "id": "sSdly_qixD5z"
      },
      "execution_count": null,
      "outputs": []
    },
    {
      "cell_type": "code",
      "source": [
        "sockMerchant(['R', 'R', 'R', 'A', 'A', 'V', 'M', 'M', 'M', 'M'])"
      ],
      "metadata": {
        "colab": {
          "base_uri": "https://localhost:8080/"
        },
        "id": "G352gkGtzuYf",
        "outputId": "9ff98fd8-7eaf-4418-85ba-26440710e495"
      },
      "execution_count": null,
      "outputs": [
        {
          "output_type": "execute_result",
          "data": {
            "text/plain": [
              "4"
            ]
          },
          "metadata": {},
          "execution_count": 18
        }
      ]
    },
    {
      "cell_type": "markdown",
      "source": [
        "**22.** Given an array of bird sightings where every element represents a bird type id, determine the id of the most frequently sighted type. If more than 1 type has been spotted that maximum amount, return the smallest of their ids."
      ],
      "metadata": {
        "id": "m64VX_Ne-onK"
      }
    },
    {
      "cell_type": "code",
      "source": [
        "def migratoryBirds(arr):\n",
        "    counts = Counter(arr)\n",
        "\n",
        "    maximum = max([element for k, element in counts.items()])\n",
        "\n",
        "    max_ids = [k for k in counts if counts[k] == maximum]\n",
        "\n",
        "    return min(max_ids)"
      ],
      "metadata": {
        "id": "FSbP_0glz5zp"
      },
      "execution_count": null,
      "outputs": []
    },
    {
      "cell_type": "code",
      "source": [
        "migratoryBirds([1, 1, 2, 2, 3, 3, 4, 5])"
      ],
      "metadata": {
        "colab": {
          "base_uri": "https://localhost:8080/"
        },
        "id": "LZPp2QG_5xV5",
        "outputId": "2d73e20e-f161-46c1-e4b9-6555df7070d9"
      },
      "execution_count": null,
      "outputs": [
        {
          "output_type": "execute_result",
          "data": {
            "text/plain": [
              "1"
            ]
          },
          "metadata": {},
          "execution_count": 44
        }
      ]
    },
    {
      "cell_type": "markdown",
      "source": [
        "**Conocimiento**\n",
        "\n",
        "Iterar sobre las llaves de un diccionario: `for key in dictionary`\n",
        "\n",
        "Iterar sobre los elementos de un diccionario: `for key, element in dictionary.items()`\n",
        "\n",
        "`dic = {'a' : 1, 'b' : 2, 'c' : 3, 'd' : 1, 'e' : 2, 'f' : 3}`\n",
        "\n",
        "Lista de todas las llaves que dan al 3: `[k for k in dic if dic[k] == 3]  # = ['c', 'f']`"
      ],
      "metadata": {
        "id": "W7kz7evU_bBE"
      }
    },
    {
      "cell_type": "markdown",
      "source": [
        "**23.** Given an array of stick lengths, use 3 of them to construct a non-degenerate triangle with the maximum possible perimeter. Return an array of the lengths of its sides as  integers in non-decreasing order.\n",
        "\n",
        "If there are several valid triangles having the maximum perimeter, choose the one with the longest maximum side.\n",
        "\n",
        "If no non-degenerate triangle exists, return -1."
      ],
      "metadata": {
        "id": "Gyo2JWfFAxYl"
      }
    },
    {
      "cell_type": "code",
      "source": [
        "def maximumPerimeterTriangle(sticks):\n",
        "    sticks.sort(reverse = True)\n",
        "    for i in range(len(sticks) - 2):\n",
        "        if sticks[i] < sticks[i+1] + sticks[i+2]:\n",
        "            return [sticks[i+2], sticks[i+1], sticks[i]]\n",
        "\n",
        "    return -1"
      ],
      "metadata": {
        "id": "qam1jDRH7k16"
      },
      "execution_count": null,
      "outputs": []
    },
    {
      "cell_type": "code",
      "source": [
        "maximumPerimeterTriangle([1, 2, 3])"
      ],
      "metadata": {
        "id": "OQtyNhF--EUk",
        "colab": {
          "base_uri": "https://localhost:8080/"
        },
        "outputId": "2a7dba97-cd99-4e76-9a1d-8fa49dc7085f"
      },
      "execution_count": null,
      "outputs": [
        {
          "output_type": "execute_result",
          "data": {
            "text/plain": [
              "-1"
            ]
          },
          "metadata": {},
          "execution_count": 23
        }
      ]
    },
    {
      "cell_type": "markdown",
      "source": [
        "**24.** A teacher asks the class to open their books to a page number. A student can either start turning pages from the front of the book or from the back of the book. They always turn pages one at a time. When they open the book, page  is always on the right side: [ 0 , 1 ]\n",
        "\n",
        "When they flip page 1, they see pages 2 and 3. Each page except the last page will always be printed on both sides. The last page may only be printed on the front, given the length of the book. If the book is n pages long, and a student wants to turn to page p, what is the minimum number of pages to turn? They can start at the beginning or the end of the book.\n",
        "\n",
        "Given n and p, find and print the minimum number of pages that must be turned in order to arrive at page ."
      ],
      "metadata": {
        "id": "u1M9arNIzelA"
      }
    },
    {
      "cell_type": "code",
      "source": [
        "def pageCount(n, p):\n",
        "    right_count = p//2\n",
        "\n",
        "    if n % 2 == 0:\n",
        "        left_count = (n-p+1)//2\n",
        "    else:\n",
        "        left_count = (n-p)//2\n",
        "\n",
        "    return min(right_count, left_count)"
      ],
      "metadata": {
        "id": "twbMJGuvAfMb"
      },
      "execution_count": null,
      "outputs": []
    },
    {
      "cell_type": "markdown",
      "source": [
        "**25.** You will be given two arrays of integers and asked to determine all integers between two sets that satisfy the following two conditions:\n",
        "\n",
        "*   The elements of the first array are all factors of the integer being considered\n",
        "*   The integer being considered is a factor of all elements of the second array"
      ],
      "metadata": {
        "id": "X2qLsJbL7bYC"
      }
    },
    {
      "cell_type": "code",
      "source": [
        "import math\n",
        "\n",
        "def getTotalX(a, b):\n",
        "    lcm = a[0]\n",
        "    gcd = b[0]\n",
        "\n",
        "    for i in a:\n",
        "      lcm = math.lcm(lcm, i)\n",
        "\n",
        "    for j in b:\n",
        "      gcd = math.gcd(gcd, j)\n",
        "\n",
        "    counter = 0\n",
        "    i = 1\n",
        "    while(i * lcm <= gcd):\n",
        "      if gcd % (i * lcm) == 0:\n",
        "        counter += 1\n",
        "      i += 1\n",
        "\n",
        "    return counter"
      ],
      "metadata": {
        "id": "QTNVY23bC6ol"
      },
      "execution_count": null,
      "outputs": []
    },
    {
      "cell_type": "markdown",
      "source": [
        "**Conocimiento**\n",
        "\n",
        "Máximo común divisor entre dos números: `math.gcd(5, 6)`\n",
        "\n",
        "Mínimo común múltiplo entre dos números `math.lcm(7, 8)`"
      ],
      "metadata": {
        "id": "mKSb7t2GdZOI"
      }
    },
    {
      "cell_type": "markdown",
      "source": [
        "**26.** Given an array of integers, find the longest subarray where the absolute difference between any two elements is less than or equal to 1."
      ],
      "metadata": {
        "id": "ngf3eUmld0er"
      }
    },
    {
      "cell_type": "code",
      "source": [
        "from collections import Counter\n",
        "def pickingNumbers(a):\n",
        "    counts = Counter(a)\n",
        "    candidates = []\n",
        "    for key in counts:\n",
        "        candidates.append(counts[key])\n",
        "\n",
        "    c = -1\n",
        "    for key in sorted(counts):\n",
        "        if key - c == 1:\n",
        "            candidates.append(counts[key] + counts[c])\n",
        "        c = key\n",
        "\n",
        "    return max(candidates)"
      ],
      "metadata": {
        "id": "N84fIxVhDQWI"
      },
      "execution_count": null,
      "outputs": []
    },
    {
      "cell_type": "markdown",
      "source": [
        "**Conocimiento**\n",
        "\n",
        "```\n",
        "a = [1, 1, 1, 1, 1, 3, 3, 4, 6, 6, 7]\n",
        "\n",
        "Counter(a) # = {1: 5, 3: 2, 4: 1, 6: 2, 7: 1}\n",
        "```\n",
        "\n",
        "Las llaves de `Counter(a)` ordenadas son: `sorted(Counter(a))`"
      ],
      "metadata": {
        "id": "GNfZGMGcpvmV"
      }
    },
    {
      "cell_type": "code",
      "source": [
        "a = [1, 1, 1, 1, 7, 3, 3, 4, 6, 6, 1]\n",
        "\n",
        "c = Counter(a) # = {1 : 5, 3 : 2, 4 : 1, 6 : 2, 7 : 1}\n",
        "\n",
        "sorted(c)"
      ],
      "metadata": {
        "colab": {
          "base_uri": "https://localhost:8080/"
        },
        "id": "_D7i5-CToGyw",
        "outputId": "1cd7b53e-43c6-4a47-e103-ebb6d999caa0"
      },
      "execution_count": null,
      "outputs": [
        {
          "output_type": "execute_result",
          "data": {
            "text/plain": [
              "[1, 3, 4, 6, 7]"
            ]
          },
          "metadata": {},
          "execution_count": 8
        }
      ]
    },
    {
      "cell_type": "markdown",
      "source": [
        "**27.** A left rotation operation on an array of size n shifts each of the array's elements 1 unit to the left. Given an integer, d, rotate the array that many steps left and return the result."
      ],
      "metadata": {
        "id": "sqxgYCUa6Qh4"
      }
    },
    {
      "cell_type": "code",
      "source": [
        "def rotateLeft(d, arr):\n",
        "    l = len(arr)\n",
        "    arr2 = [0] * l\n",
        "    for i in range(l):\n",
        "        arr2[i] = arr[(i+d)%l]\n",
        "    return arr2"
      ],
      "metadata": {
        "id": "hSlL5SsmqDAI"
      },
      "execution_count": null,
      "outputs": []
    },
    {
      "cell_type": "code",
      "source": [
        "rotateLeft(2, [1, 2, 3, 4])"
      ],
      "metadata": {
        "id": "pmm8XtXz7kim",
        "colab": {
          "base_uri": "https://localhost:8080/"
        },
        "outputId": "f8e1acde-27c4-4794-8437-8d534dbaed81"
      },
      "execution_count": null,
      "outputs": [
        {
          "output_type": "execute_result",
          "data": {
            "text/plain": [
              "[3, 4, 1, 2]"
            ]
          },
          "metadata": {},
          "execution_count": 14
        }
      ]
    },
    {
      "cell_type": "markdown",
      "source": [
        "**28.** You are choreographing a circus show with various animals. For one act, you are given two kangaroos on a number line ready to jump in the positive direction (i.e, toward positive infinity).\n",
        "\n",
        "The first kangaroo starts at location x1 and moves at a rate of v2 meters per jump.\n",
        "The second kangaroo starts at location x2 and moves at a rate of v2 meters per jump.\n",
        "You have to figure out a way to get both kangaroos at the same location at the same time as part of the show. If it is possible, return YES, otherwise return NO."
      ],
      "metadata": {
        "id": "lkIfxsp4-zG4"
      }
    },
    {
      "cell_type": "code",
      "source": [
        "def kangaroo(x1, v1, x2, v2):\n",
        "    if x1 < x2 and v1 <= v2:\n",
        "        return \"NO\"\n",
        "    inter = (x2 - x1) / (v1 - v2)\n",
        "    if inter == int(inter):\n",
        "        return \"YES\"\n",
        "    return \"NO\""
      ],
      "metadata": {
        "id": "ECLb2ZPj7578"
      },
      "execution_count": null,
      "outputs": []
    },
    {
      "cell_type": "markdown",
      "source": [
        "**29.** A numeric string, s, is beautiful if it can be split into a sequence of two or more positive integers, a1,a2,….. ,an, satisfying the following conditions:\n",
        "\n",
        "ai-ai-1 = 1 for any 1≤ i≤ n (i.e., each element in the sequence is 1 more than the previous element).\n",
        "\n",
        "No ai contains a leading zero. For example, we can split s = 10203 into {1, 02, 03 } the sequence , but it is not beautiful because 02 and 03 have leading zeroes.\n",
        "\n",
        "The contents of the sequence cannot be rearranged. For example, we can split s = 312 into the sequence {3, 1, 2}, but it is not beautiful because it breaks our first constraint (i.e., 1–3 ≠ 1 ).\n",
        "\n",
        "\n",
        "The diagram below depicts some beautiful strings:\n",
        "\n",
        "1234 = 1 2 3 4\n",
        "\n",
        "91011 = 9 10 11\n",
        "\n",
        "99100101 = 99 100 101"
      ],
      "metadata": {
        "id": "rZmNbvHFTxXw"
      }
    },
    {
      "cell_type": "code",
      "source": [
        "def separateNumbers(s):\n",
        "    if len(s) == 1:\n",
        "      print(\"NO\")\n",
        "      return\n",
        "\n",
        "    else:\n",
        "      for i in range(1, len(s)//2 + 1):\n",
        "        genstr = s[:i]\n",
        "        prev = int(genstr)\n",
        "\n",
        "        while len(genstr) < len(s):\n",
        "          next = prev + 1\n",
        "          genstr = genstr + str(next)\n",
        "          prev = next\n",
        "          if genstr != s[:len(genstr)]:\n",
        "            break\n",
        "\n",
        "        if genstr == s:\n",
        "          print(\"YES\", s[:i])\n",
        "          return\n",
        "    print(\"NO\")"
      ],
      "metadata": {
        "id": "5RPayJt_76dX"
      },
      "execution_count": null,
      "outputs": []
    },
    {
      "cell_type": "markdown",
      "source": [
        "**30.** Sorting is useful as the first step in many different tasks. The most common task is to make finding things easier, but there are other uses as well. In this case, it will make it easier to determine which pair or pairs of elements have the smallest absolute difference between them.\n",
        "\n",
        "Given a list of unsorted integers, , find the pair of elements that have the smallest absolute difference between them. If there are multiple pairs, find them all.\n",
        "\n",
        "Example\n",
        "$arr=[5,4,3,2,1]$\n",
        "\n",
        "Sorted, $arr'=[1,2,3,4,5]$. Several pairs have the minimum difference of 1.\n",
        "\n",
        "Return the array $[1,2,2,3,3,4,4,5]$."
      ],
      "metadata": {
        "id": "5YuyWbxNZQJ-"
      }
    },
    {
      "cell_type": "code",
      "source": [
        "def closestNumbers(arr):\n",
        "  arr.sort()\n",
        "  min = float('inf')\n",
        "  ans = []\n",
        "\n",
        "  for i in range(len(arr) - 1):\n",
        "    if arr[i + 1] - arr[i] < min:\n",
        "      min = arr[i + 1] - arr[i]\n",
        "\n",
        "  for i in range(len(arr) - 1):\n",
        "    if arr[i + 1] - arr[i] == min:\n",
        "      ans.append(arr[i])\n",
        "      ans.append(arr[i + 1])\n",
        "\n",
        "  return ans"
      ],
      "metadata": {
        "id": "Usjq-46iIOdD"
      },
      "execution_count": null,
      "outputs": []
    },
    {
      "cell_type": "code",
      "source": [
        "closestNumbers([-20, -3916237, -357920, -3620601, 7374819, -7330761, 30, 6246457, -6461594, 266854, -520, -470])"
      ],
      "metadata": {
        "colab": {
          "base_uri": "https://localhost:8080/"
        },
        "id": "5LKfOfndIc_T",
        "outputId": "6f828c81-53ff-44ba-ed60-f97503076838"
      },
      "execution_count": null,
      "outputs": [
        {
          "output_type": "execute_result",
          "data": {
            "text/plain": [
              "[-520, -470, -20, 30]"
            ]
          },
          "metadata": {},
          "execution_count": 137
        }
      ]
    },
    {
      "cell_type": "markdown",
      "source": [
        "**31.** Julius Caesar protected his confidential information by encrypting it using a cipher. Caesar's cipher shifts each letter by a number of letters. If the shift takes you past the end of the alphabet, just rotate back to the front of the alphabet. In the case of a rotation by 3, w, x, y and z would map to z, a, b and c."
      ],
      "metadata": {
        "id": "HZpwF1dSBW55"
      }
    },
    {
      "cell_type": "code",
      "source": [
        "def caesarCipher(s, k):\n",
        "  result = ''\n",
        "  for c in s:\n",
        "    if ord(c) >= 97 and ord(c) <= 122:\n",
        "      result += chr((ord(c) - 97 + k) % 26 + 97)\n",
        "    elif ord(c) >= 65 and ord(c) <= 90:\n",
        "      result += chr((ord(c) - 65 + k) % 26 + 65)\n",
        "    else:\n",
        "      result = result + c\n",
        "  return result"
      ],
      "metadata": {
        "id": "Tyk4-_0yB2Ad"
      },
      "execution_count": null,
      "outputs": []
    },
    {
      "cell_type": "code",
      "source": [
        "caesarCipher('abcXYZ', 1)"
      ],
      "metadata": {
        "colab": {
          "base_uri": "https://localhost:8080/",
          "height": 35
        },
        "id": "jppweEv7B4ZU",
        "outputId": "250f7b63-5951-4ac2-ab1c-1a6d22d4e9f4"
      },
      "execution_count": null,
      "outputs": [
        {
          "output_type": "execute_result",
          "data": {
            "text/plain": [
              "'bcdYZA'"
            ],
            "application/vnd.google.colaboratory.intrinsic+json": {
              "type": "string"
            }
          },
          "metadata": {},
          "execution_count": 16
        }
      ]
    },
    {
      "cell_type": "markdown",
      "source": [
        "**Conocimiento**\n",
        "\n",
        "Obtener el código ascii de un caracter: `ord(c)`\n",
        "\n",
        "Obtener un caracter a partir de código ascii: `chr(123)`\n",
        "\n",
        "\n",
        "\n"
      ],
      "metadata": {
        "id": "C5r8aMUQGqDE"
      }
    },
    {
      "cell_type": "markdown",
      "source": [
        "**32.** Given an array of integers and value ‘k’. Calculate the minimum unfairness value possible with an array of ‘k’ elements from the given array.\n",
        "\n",
        "Unfairness = max(arr) — min(arr)\n",
        "\n",
        "For eg: arr = [ 2, 8, 2, 4, 4, 1 ] and k = 4\n",
        "\n",
        "The array [ 2, 4, 2, 4 ] gives the minimum unfairness value possible which is 4–2 = 2."
      ],
      "metadata": {
        "id": "KBsHOMJHNFF5"
      }
    },
    {
      "cell_type": "code",
      "source": [
        "def maxMin(k, arr):\n",
        "    arr.sort()\n",
        "    minimum = float(\"inf\")\n",
        "    for i in range(len(arr) - k + 1):\n",
        "      if arr[i + k - 1] - arr[i] < minimum:\n",
        "        minimum = arr[i + k - 1] - arr[i]\n",
        "    return minimum"
      ],
      "metadata": {
        "id": "UUBvIyFWDrOv"
      },
      "execution_count": null,
      "outputs": []
    },
    {
      "cell_type": "code",
      "source": [
        "maxMin(5, [10, 20, 30, 40, 50, 51, 52, 53, 54, 55])"
      ],
      "metadata": {
        "colab": {
          "base_uri": "https://localhost:8080/"
        },
        "id": "IIICTCOQNSUT",
        "outputId": "e9257904-9c95-4557-800e-6073162e22b4"
      },
      "execution_count": null,
      "outputs": [
        {
          "output_type": "execute_result",
          "data": {
            "text/plain": [
              "4"
            ]
          },
          "metadata": {},
          "execution_count": 42
        }
      ]
    },
    {
      "cell_type": "markdown",
      "source": [
        "**33.** Louise joined a social networking site to stay in touch with her friends. The signup page required her to input a name and a password. However, the password must be strong. The website considers a password to be strong if it satisfies the following criteria:\n",
        "\n",
        "Its length is at least .\n",
        "It contains at least one digit.\n",
        "It contains at least one lowercase English character.\n",
        "It contains at least one uppercase English character.\n",
        "It contains at least one special character. The special characters are: !@#$%^&*()-+\n",
        "She typed a random string of length  in the password field but wasn't sure if it was strong. Given the string she typed, can you find the minimum number of characters she must add to make her password strong?\n",
        "\n",
        "Note: Here's the set of types of characters in a form you can paste in your solution:"
      ],
      "metadata": {
        "id": "W3XOezRsPi8k"
      }
    },
    {
      "cell_type": "code",
      "source": [
        "def strongPassword(n, password):\n",
        "    numbers = \"0123456789\"\n",
        "    lower_case = \"abcdefghijklmnopqrstuvwxyz\"\n",
        "    upper_case = \"ABCDEFGHIJKLMNOPQRSTUVWXYZ\"\n",
        "    special_characters = \"!@#$%^&*()-+\"\n",
        "\n",
        "    conditions = [numbers, lower_case, upper_case, special_characters]\n",
        "\n",
        "    completed_conditions = [False] * 4\n",
        "\n",
        "    for c in password:\n",
        "        for i in range(4):\n",
        "            if c in conditions[i]:\n",
        "                completed_conditions[i] = True\n",
        "\n",
        "    missing_conditions = 4 - sum(completed_conditions)\n",
        "\n",
        "    if n < 6:\n",
        "        return max(6 - n, missing_conditions)\n",
        "    else:\n",
        "        return missing_conditions"
      ],
      "metadata": {
        "id": "a447xgAGNYE1"
      },
      "execution_count": null,
      "outputs": []
    },
    {
      "cell_type": "markdown",
      "source": [
        "**34.** Given two arrays, the task is that we find numbers which are present in first array, but not present in the second array.\n",
        "\n",
        "Input:\n",
        "\n",
        "```\n",
        "    a[] = [1, 2, 3, 4, 5, 10]\n",
        "    b[] = [2, 3, 1, 0, 5]\n",
        "```\n",
        "\n",
        "\n",
        "Output: `4 10`    \n",
        "4 and 10 are present in first array, but\n",
        "not in second array."
      ],
      "metadata": {
        "id": "en6nXoTZ1-I0"
      }
    },
    {
      "cell_type": "code",
      "source": [
        "def missingNumbers(arr, brr):\n",
        "    c1 = Counter(brr)\n",
        "    c2 = Counter(arr)\n",
        "    c = c1 - c2\n",
        "    return sorted(c.keys())"
      ],
      "metadata": {
        "id": "F7OLh5_oYkK2"
      },
      "execution_count": null,
      "outputs": []
    },
    {
      "cell_type": "markdown",
      "source": [
        "**Conocimiento**\n",
        "\n",
        "Operaciones entre objetos `Counter`.\n",
        "\n",
        "```\n",
        "a = [1, 1, 2, 2, 3, 4, 5, 5, 5, 5, 6, 8]\n",
        "b = [1, 2, 4, 5, 6, 7]\n",
        "Counter(a) - Counter(b) # = Counter({5: 3, 1: 1, 2: 1, 3: 1, 8: 1})\n",
        "```"
      ],
      "metadata": {
        "id": "C792YzF_2eVm"
      }
    },
    {
      "cell_type": "code",
      "source": [
        "from collections import Counter\n",
        "a = [1, 1, 2, 2, 3, 4, 5, 5, 5, 5, 6, 8]\n",
        "b = [1, 2, 4, 5, 6, 7]\n",
        "\n",
        "print(Counter(a) + Counter(b))"
      ],
      "metadata": {
        "colab": {
          "base_uri": "https://localhost:8080/"
        },
        "id": "jDgDVCTw2dRx",
        "outputId": "31ab373e-20d4-42b6-991d-8991ac67b72a"
      },
      "execution_count": null,
      "outputs": [
        {
          "output_type": "stream",
          "name": "stdout",
          "text": [
            "Counter({5: 5, 1: 3, 2: 3, 4: 2, 6: 2, 3: 1, 8: 1, 7: 1})\n"
          ]
        }
      ]
    }
  ]
}